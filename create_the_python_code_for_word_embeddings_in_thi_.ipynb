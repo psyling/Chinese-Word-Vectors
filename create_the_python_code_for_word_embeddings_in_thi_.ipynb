{
  "cells": [
    {
      "cell_type": "markdown",
      "metadata": {
        "id": "view-in-github",
        "colab_type": "text"
      },
      "source": [
        "<a href=\"https://colab.research.google.com/github/psyling/Chinese-Word-Vectors/blob/master/create_the_python_code_for_word_embeddings_in_thi_.ipynb\" target=\"_parent\"><img src=\"https://colab.research.google.com/assets/colab-badge.svg\" alt=\"Open In Colab\"/></a>"
      ]
    },
    {
      "cell_type": "code",
      "source": [
        "import nltk\n",
        "import numpy as np\n",
        "from sklearn.metrics.pairwise import cosine_similarity\n",
        "from gensim.models import Word2Vec\n",
        "\n",
        "# Download required NLTK resources\n",
        "nltk.download('punkt')\n",
        "\n",
        "# 1. Prepare the corpus\n",
        "def prepare_corpus(text_data):\n",
        "  \"\"\"\n",
        "  Tokenizes and preprocesses text data for word embedding training.\n",
        "\n",
        "  Args:\n",
        "    text_data: A list of text documents.\n",
        "\n",
        "  Returns:\n",
        "    A list of tokenized sentences.\n",
        "  \"\"\"\n",
        "  sentences =\n",
        "  for text in text_data:\n",
        "    sentences.extend(nltk.sent_tokenize(text))\n",
        "  return [nltk.word_tokenize(sentence.lower()) for sentence in sentences]\n",
        "\n",
        "# Example usage with your data sources (replace with your actual data)\n",
        "leadership_speeches = [\n",
        "    # ... load speeches from your dataset ...\n",
        "]\n",
        "employee_feedback = [\n",
        "    # ... load feedback data ...\n",
        "]\n",
        "online_discussions = [\n",
        "    # ... load online discussion data ...\n",
        "]\n",
        "\n",
        "corpus = prepare_corpus(leadership_speeches + employee_feedback + online_discussions)\n",
        "\n",
        "# 2. Train the word embedding model\n",
        "model = Word2Vec(sentences=corpus, vector_size=100, window=5, min_count=5, workers=4)\n",
        "\n",
        "# 3. Define pronoun and perception-related words\n",
        "pronouns = [\"i\", \"me\", \"my\", \"mine\", \"we\", \"us\", \"our\", \"ours\"]\n",
        "perception_words = [\n",
        "    \"trustworthy\", \"competent\", \"inspiring\", \"motivated\", \"engaged\",\n",
        "    \"collaborative\", \"accountable\", \"inclusive\", \"respectful\", \"leader\",\n",
        "    \"leadership\", \"effective\", \"reliable\", \"credible\", \"supportive\"\n",
        "]\n",
        "\n",
        "# 4. Analyze word embedding relationships\n",
        "def analyze_associations(model, pronouns, perception_words):\n",
        "  \"\"\"\n",
        "  Calculates cosine similarity between pronoun and perception word embeddings.\n",
        "\n",
        "  Args:\n",
        "    model: A trained word embedding model.\n",
        "    pronouns: A list of pronouns.\n",
        "    perception_words: A list of perception-related words.\n",
        "\n",
        "  Returns:\n",
        "    A dictionary of pronoun-perception word similarity scores.\n",
        "  \"\"\"\n",
        "  similarity_scores = {}\n",
        "  for pronoun in pronouns:\n",
        "    similarity_scores = {}\n",
        "    for word in perception_words:\n",
        "      if pronoun in model.wv and word in model.wv:\n",
        "        similarity_scores = cosine_similarity(\n",
        "            model.wv.reshape(1, -1), model.wv.reshape(1, -1)\n",
        "        )[0][0]\n",
        "  return similarity_scores\n",
        "\n",
        "similarity_scores = analyze_associations(model, pronouns, perception_words)\n",
        "\n",
        "# Print the similarity scores\n",
        "for pronoun, scores in similarity_scores.items():\n",
        "  print(f\"Pronoun: {pronoun}\")\n",
        "  for word, score in scores.items():\n",
        "    print(f\"  {word}: {score:.4f}\")\n",
        "\n",
        "# Further analysis and visualization (t-SNE, PCA, etc.) can be done here\n",
        "# ..."
      ],
      "outputs": [],
      "execution_count": null,
      "metadata": {
        "id": "DwyeZFD_wMH_"
      }
    },
    {
      "cell_type": "markdown",
      "source": [
        "**Explanation:**\n",
        "\n",
        "* **Import necessary libraries:** `nltk` for text processing, `numpy` for numerical operations, `cosine_similarity` from `sklearn` to calculate similarity, and `Word2Vec` from `gensim` for word embedding training.\n",
        "* **Prepare the corpus:** This function tokenizes the text data and converts it to lowercase. You'll need to replace the example data sources with your actual data.\n",
        "* **Train the word embedding model:** This code trains a `Word2Vec` model on the prepared corpus. You can adjust parameters like `vector_size`, `window`, and `min_count` based on your data and needs.\n",
        "* **Define pronoun and perception-related words:** Create lists of relevant words for analysis.\n",
        "* **Analyze word embedding relationships:** This function calculates the cosine similarity between the word embeddings of pronouns and perception words.\n",
        "* **Print the similarity scores:** This code displays the calculated similarity scores.\n",
        "\n",
        "**Further Steps:**\n",
        "\n",
        "* **Visualize the relationships:** Use dimensionality reduction techniques like t-SNE or PCA to visualize the word embeddings and observe clusters and patterns.\n",
        "* **Contextual analysis:** Analyze pronoun use in different contexts within your corpus to understand how it relates to employee perceptions in those specific situations.\n",
        "* **Combine with other methods:** Integrate this analysis with sentiment analysis, topic modeling, or surveys to gain a more comprehensive understanding.\n",
        "\n",
        "Remember to adapt this code and analysis to your specific data and research questions."
      ],
      "metadata": {
        "id": "CA4KdhX-wMID"
      }
    }
  ],
  "metadata": {
    "colab": {
      "provenance": [],
      "include_colab_link": true
    },
    "kernelspec": {
      "display_name": "Python 3",
      "name": "python3"
    }
  },
  "nbformat": 4,
  "nbformat_minor": 0
}